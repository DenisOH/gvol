{
 "cells": [
  {
   "cell_type": "code",
   "execution_count": 1,
   "id": "905e5eab",
   "metadata": {},
   "outputs": [],
   "source": [
    "import pandas as pd"
   ]
  },
  {
   "cell_type": "code",
   "execution_count": 7,
   "id": "fe533fc6",
   "metadata": {},
   "outputs": [
    {
     "ename": "ImportError",
     "evalue": "cannot import name 'AMBERDATA' from 'gvol' (/Users/fabiobassani/Documents/AMBERDATA/github/gvol-py/gvol/__init__.py)",
     "output_type": "error",
     "traceback": [
      "\u001b[0;31m---------------------------------------------------------------------------\u001b[0m",
      "\u001b[0;31mImportError\u001b[0m                               Traceback (most recent call last)",
      "Cell \u001b[0;32mIn[7], line 1\u001b[0m\n\u001b[0;32m----> 1\u001b[0m \u001b[38;5;28;01mfrom\u001b[39;00m \u001b[38;5;21;01mgvol\u001b[39;00m \u001b[38;5;28;01mimport\u001b[39;00m AMBERDATA\n",
      "\u001b[0;31mImportError\u001b[0m: cannot import name 'AMBERDATA' from 'gvol' (/Users/fabiobassani/Documents/AMBERDATA/github/gvol-py/gvol/__init__.py)"
     ]
    }
   ],
   "source": [
    "from gvol import AMBERDATA"
   ]
  },
  {
   "cell_type": "code",
   "execution_count": 8,
   "id": "8b5c2ee8",
   "metadata": {},
   "outputs": [
    {
     "name": "stdout",
     "output_type": "stream",
     "text": [
      "/Users/fabiobassani/miniconda3/bin/python\n"
     ]
    }
   ],
   "source": [
    "import sys\n",
    "print(sys.executable)"
   ]
  },
  {
   "cell_type": "code",
   "execution_count": null,
   "id": "f98a6c26",
   "metadata": {},
   "outputs": [],
   "source": []
  }
 ],
 "metadata": {
  "kernelspec": {
   "display_name": "Python 3 (ipykernel)",
   "language": "python",
   "name": "python3"
  },
  "language_info": {
   "codemirror_mode": {
    "name": "ipython",
    "version": 3
   },
   "file_extension": ".py",
   "mimetype": "text/x-python",
   "name": "python",
   "nbconvert_exporter": "python",
   "pygments_lexer": "ipython3",
   "version": "3.10.8"
  }
 },
 "nbformat": 4,
 "nbformat_minor": 5
}
