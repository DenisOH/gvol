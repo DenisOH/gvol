{
 "cells": [
  {
   "cell_type": "code",
   "execution_count": 8,
   "id": "0d012f82",
   "metadata": {},
   "outputs": [],
   "source": [
    "from gvol import GVol"
   ]
  },
  {
   "cell_type": "code",
   "execution_count": 9,
   "id": "b35a18c0",
   "metadata": {},
   "outputs": [
    {
     "ename": "ImportError",
     "evalue": "cannot import name 'AMBERDATA' from 'gvol' (/Users/fabiobassani/Documents/AMBERDATA/github/gvol-py/gvol/__init__.py)",
     "output_type": "error",
     "traceback": [
      "\u001b[0;31m---------------------------------------------------------------------------\u001b[0m",
      "\u001b[0;31mImportError\u001b[0m                               Traceback (most recent call last)",
      "Cell \u001b[0;32mIn[9], line 1\u001b[0m\n\u001b[0;32m----> 1\u001b[0m \u001b[38;5;28;01mfrom\u001b[39;00m \u001b[38;5;21;01mgvol\u001b[39;00m \u001b[38;5;28;01mimport\u001b[39;00m AMBERDATA\n",
      "\u001b[0;31mImportError\u001b[0m: cannot import name 'AMBERDATA' from 'gvol' (/Users/fabiobassani/Documents/AMBERDATA/github/gvol-py/gvol/__init__.py)"
     ]
    }
   ],
   "source": [
    "from gvol import AMBERDATA"
   ]
  },
  {
   "cell_type": "code",
   "execution_count": null,
   "id": "6e3c9054",
   "metadata": {},
   "outputs": [],
   "source": []
  }
 ],
 "metadata": {
  "kernelspec": {
   "display_name": "Python (myenv)",
   "language": "python",
   "name": "gvolpy"
  },
  "language_info": {
   "codemirror_mode": {
    "name": "ipython",
    "version": 3
   },
   "file_extension": ".py",
   "mimetype": "text/x-python",
   "name": "python",
   "nbconvert_exporter": "python",
   "pygments_lexer": "ipython3",
   "version": "3.10.8"
  }
 },
 "nbformat": 4,
 "nbformat_minor": 5
}
